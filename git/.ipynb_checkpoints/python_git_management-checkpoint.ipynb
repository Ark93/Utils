{
 "cells": [
  {
   "cell_type": "code",
   "execution_count": 61,
   "metadata": {},
   "outputs": [],
   "source": [
    "import git\n",
    "import sys\n",
    "import os"
   ]
  },
  {
   "cell_type": "markdown",
   "metadata": {},
   "source": [
    "## Updating 'dockers' repo"
   ]
  },
  {
   "cell_type": "code",
   "execution_count": 29,
   "metadata": {},
   "outputs": [],
   "source": [
    "dockers_repo = git.Repo('dockers/')\n",
    "assert dockers_repo"
   ]
  },
  {
   "cell_type": "code",
   "execution_count": 30,
   "metadata": {},
   "outputs": [
    {
     "name": "stdout",
     "output_type": "stream",
     "text": [
      "On branch master\n",
      "Your branch is up to date with 'origin/master'.\n",
      "\n",
      "Changes to be committed:\n",
      "  (use \"git restore --staged <file>...\" to unstage)\n",
      "\tnew file:   jupyter_docker/.ipynb_checkpoints/PythonDocker-checkpoint.ipynb\n",
      "\tnew file:   jupyter_docker/.ipynb_checkpoints/README-checkpoint.md\n",
      "\tnew file:   jupyter_docker/PythonDocker.ipynb\n",
      "\tnew file:   jupyter_docker/README.md\n",
      "\n"
     ]
    }
   ],
   "source": [
    "print(dockers_repo.git.status())"
   ]
  },
  {
   "cell_type": "code",
   "execution_count": 37,
   "metadata": {},
   "outputs": [
    {
     "name": "stdout",
     "output_type": "stream",
     "text": [
      "Has changes: True\n",
      "-------\n",
      "Git status: \n",
      "On branch master\n",
      "Your branch is up to date with 'origin/master'.\n",
      "\n",
      "Changes to be committed:\n",
      "  (use \"git restore --staged <file>...\" to unstage)\n",
      "\tnew file:   jupyter_docker/.ipynb_checkpoints/PythonDocker-checkpoint.ipynb\n",
      "\tnew file:   jupyter_docker/.ipynb_checkpoints/README-checkpoint.md\n",
      "\tnew file:   jupyter_docker/PythonDocker.ipynb\n",
      "\tnew file:   jupyter_docker/README.md\n",
      "\n"
     ]
    }
   ],
   "source": [
    "print('Has changes: {}'.format(dockers_repo.is_dirty()))\n",
    "print('-------\\nGit status: \\n{}'.format(dockers_repo.git.status()))"
   ]
  },
  {
   "cell_type": "code",
   "execution_count": 38,
   "metadata": {},
   "outputs": [
    {
     "data": {
      "text/plain": [
       "'[master c39bad8] Adding first steps to download and run docker with jupyter included\\n 4 files changed, 336 insertions(+)\\n create mode 100644 jupyter_docker/.ipynb_checkpoints/PythonDocker-checkpoint.ipynb\\n create mode 100644 jupyter_docker/.ipynb_checkpoints/README-checkpoint.md\\n create mode 100644 jupyter_docker/PythonDocker.ipynb\\n create mode 100644 jupyter_docker/README.md'"
      ]
     },
     "execution_count": 38,
     "metadata": {},
     "output_type": "execute_result"
    }
   ],
   "source": [
    "print(dockers_repo.git.commit('-m','Adding first steps to download and run docker with jupyter included'))"
   ]
  },
  {
   "cell_type": "code",
   "execution_count": 39,
   "metadata": {},
   "outputs": [
    {
     "name": "stdout",
     "output_type": "stream",
     "text": [
      "Has changes: False\n",
      "-------\n",
      "Git status: \n",
      "On branch master\n",
      "Your branch is ahead of 'origin/master' by 1 commit.\n",
      "  (use \"git push\" to publish your local commits)\n",
      "\n",
      "nothing to commit, working tree clean\n"
     ]
    }
   ],
   "source": [
    "print('Has changes: {}'.format(dockers_repo.is_dirty()))\n",
    "print('-------\\nGit status: \\n{}'.format(dockers_repo.git.status()))"
   ]
  },
  {
   "cell_type": "code",
   "execution_count": 50,
   "metadata": {},
   "outputs": [],
   "source": [
    "origin = dockers_repo.remote(name='origin')"
   ]
  },
  {
   "cell_type": "code",
   "execution_count": 54,
   "metadata": {},
   "outputs": [
    {
     "data": {
      "text/plain": [
       "[<git.remote.PushInfo at 0x7fe57ffb9590>]"
      ]
     },
     "execution_count": 54,
     "metadata": {},
     "output_type": "execute_result"
    }
   ],
   "source": [
    "origin.push()"
   ]
  },
  {
   "cell_type": "code",
   "execution_count": 55,
   "metadata": {},
   "outputs": [
    {
     "data": {
      "text/plain": [
       "<git.repo.base.Repo '/home/santos/Documents/Repos/dockers/.git'>"
      ]
     },
     "execution_count": 55,
     "metadata": {},
     "output_type": "execute_result"
    }
   ],
   "source": [
    "dockers_repo"
   ]
  },
  {
   "cell_type": "markdown",
   "metadata": {},
   "source": [
    "## Cloning 'Utils' repo"
   ]
  },
  {
   "cell_type": "code",
   "execution_count": 64,
   "metadata": {},
   "outputs": [],
   "source": [
    "os.mkdir('Utils/')"
   ]
  },
  {
   "cell_type": "code",
   "execution_count": null,
   "metadata": {},
   "outputs": [],
   "source": [
    "# I ran this line and clean it for security\n",
    "git.Repo.clone_from('https://github.com/Ark93/Utils.git', os.path.join(os.getcwd(),'Utils/'))"
   ]
  },
  {
   "cell_type": "code",
   "execution_count": 70,
   "metadata": {},
   "outputs": [],
   "source": [
    "os.chdir('Utils')"
   ]
  },
  {
   "cell_type": "code",
   "execution_count": 75,
   "metadata": {},
   "outputs": [
    {
     "name": "stdout",
     "output_type": "stream",
     "text": [
      ".  ..  .git  git  README.md\n"
     ]
    }
   ],
   "source": [
    "!ls -a"
   ]
  }
 ],
 "metadata": {
  "kernelspec": {
   "display_name": "Python 3",
   "language": "python",
   "name": "python3"
  },
  "language_info": {
   "codemirror_mode": {
    "name": "ipython",
    "version": 3
   },
   "file_extension": ".py",
   "mimetype": "text/x-python",
   "name": "python",
   "nbconvert_exporter": "python",
   "pygments_lexer": "ipython3",
   "version": "3.7.6"
  }
 },
 "nbformat": 4,
 "nbformat_minor": 4
}
